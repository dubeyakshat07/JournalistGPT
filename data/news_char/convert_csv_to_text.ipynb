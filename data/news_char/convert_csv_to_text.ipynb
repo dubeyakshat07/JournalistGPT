{
 "cells": [
  {
   "cell_type": "code",
   "execution_count": 1,
   "metadata": {},
   "outputs": [],
   "source": [
    "import pandas as pd"
   ]
  },
  {
   "cell_type": "code",
   "execution_count": 32,
   "metadata": {},
   "outputs": [],
   "source": [
    "df = pd.read_csv(\"english_news_dataset.csv\")"
   ]
  },
  {
   "cell_type": "code",
   "execution_count": 33,
   "metadata": {},
   "outputs": [
    {
     "data": {
      "text/html": [
       "<div>\n",
       "<style scoped>\n",
       "    .dataframe tbody tr th:only-of-type {\n",
       "        vertical-align: middle;\n",
       "    }\n",
       "\n",
       "    .dataframe tbody tr th {\n",
       "        vertical-align: top;\n",
       "    }\n",
       "\n",
       "    .dataframe thead th {\n",
       "        text-align: right;\n",
       "    }\n",
       "</style>\n",
       "<table border=\"1\" class=\"dataframe\">\n",
       "  <thead>\n",
       "    <tr style=\"text-align: right;\">\n",
       "      <th></th>\n",
       "      <th>Headline</th>\n",
       "      <th>Content</th>\n",
       "      <th>News Categories</th>\n",
       "      <th>Date</th>\n",
       "    </tr>\n",
       "  </thead>\n",
       "  <tbody>\n",
       "    <tr>\n",
       "      <th>0</th>\n",
       "      <td>Congress leader Baljinder Singh shot dead at h...</td>\n",
       "      <td>Congress leader Baljinder Singh was shot dead ...</td>\n",
       "      <td>['national']</td>\n",
       "      <td>19-09-2023</td>\n",
       "    </tr>\n",
       "    <tr>\n",
       "      <th>1</th>\n",
       "      <td>17-year-old girl preparing for NEET dies by su...</td>\n",
       "      <td>Another NEET aspirant died by suicide in Rajas...</td>\n",
       "      <td>['national']</td>\n",
       "      <td>19-09-2023</td>\n",
       "    </tr>\n",
       "    <tr>\n",
       "      <th>2</th>\n",
       "      <td>Hampers to welcome MPs in new Parliament tomor...</td>\n",
       "      <td>In order to mark the first-ever working day of...</td>\n",
       "      <td>['national']</td>\n",
       "      <td>19-09-2023</td>\n",
       "    </tr>\n",
       "    <tr>\n",
       "      <th>3</th>\n",
       "      <td>Only 10% women lawmakers in RS, while only 14%...</td>\n",
       "      <td>Congress President Mallikarjun Kharge, while s...</td>\n",
       "      <td>['national']</td>\n",
       "      <td>19-09-2023</td>\n",
       "    </tr>\n",
       "    <tr>\n",
       "      <th>4</th>\n",
       "      <td>Ganesh temple decorated with notes, coins wort...</td>\n",
       "      <td>The Sri Sathya Ganapathi Temple in Bengaluru a...</td>\n",
       "      <td>['national']</td>\n",
       "      <td>19-09-2023</td>\n",
       "    </tr>\n",
       "  </tbody>\n",
       "</table>\n",
       "</div>"
      ],
      "text/plain": [
       "                                            Headline  \\\n",
       "0  Congress leader Baljinder Singh shot dead at h...   \n",
       "1  17-year-old girl preparing for NEET dies by su...   \n",
       "2  Hampers to welcome MPs in new Parliament tomor...   \n",
       "3  Only 10% women lawmakers in RS, while only 14%...   \n",
       "4  Ganesh temple decorated with notes, coins wort...   \n",
       "\n",
       "                                             Content News Categories  \\\n",
       "0  Congress leader Baljinder Singh was shot dead ...    ['national']   \n",
       "1  Another NEET aspirant died by suicide in Rajas...    ['national']   \n",
       "2  In order to mark the first-ever working day of...    ['national']   \n",
       "3  Congress President Mallikarjun Kharge, while s...    ['national']   \n",
       "4  The Sri Sathya Ganapathi Temple in Bengaluru a...    ['national']   \n",
       "\n",
       "         Date  \n",
       "0  19-09-2023  \n",
       "1  19-09-2023  \n",
       "2  19-09-2023  \n",
       "3  19-09-2023  \n",
       "4  19-09-2023  "
      ]
     },
     "execution_count": 33,
     "metadata": {},
     "output_type": "execute_result"
    }
   ],
   "source": [
    "df.head()"
   ]
  },
  {
   "cell_type": "code",
   "execution_count": 34,
   "metadata": {},
   "outputs": [
    {
     "name": "stderr",
     "output_type": "stream",
     "text": [
      "100%|██████████| 307696/307696 [00:00<00:00, 342260.59it/s]\n"
     ]
    }
   ],
   "source": [
    "text_list = []\n",
    "from tqdm import tqdm\n",
    "\n",
    "for i in tqdm(range(len(df))):\n",
    "    text_list.append(df[\"Content\"][i])"
   ]
  },
  {
   "cell_type": "code",
   "execution_count": 35,
   "metadata": {},
   "outputs": [],
   "source": [
    "fp = open(\"input.txt\", \"w\")\n",
    "with open(\"input.txt\", \"w\"):\n",
    "    for items in text_list:\n",
    "        fp.write(\"%s/n\" %items)\n"
   ]
  },
  {
   "cell_type": "code",
   "execution_count": null,
   "metadata": {},
   "outputs": [],
   "source": []
  }
 ],
 "metadata": {
  "kernelspec": {
   "display_name": "journalist",
   "language": "python",
   "name": "python3"
  },
  "language_info": {
   "codemirror_mode": {
    "name": "ipython",
    "version": 3
   },
   "file_extension": ".py",
   "mimetype": "text/x-python",
   "name": "python",
   "nbconvert_exporter": "python",
   "pygments_lexer": "ipython3",
   "version": "3.10.16"
  }
 },
 "nbformat": 4,
 "nbformat_minor": 2
}
